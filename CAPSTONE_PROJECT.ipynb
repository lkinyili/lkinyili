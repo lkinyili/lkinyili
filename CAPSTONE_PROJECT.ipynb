{
 "cells": [
  {
   "cell_type": "code",
   "execution_count": null,
   "id": "c9f751b1-23c8-4c6c-b067-82579ffcd577",
   "metadata": {},
   "outputs": [],
   "source": [
    "I. You are provided with the following raw data:\n",
    "\n",
    "registration_number = np.random.randint(2100,7200,10)\n",
    "\n",
    "students = Ann,Brian,Cate,Denis,Eva,Francis,Gary,Hellen,Ian,Jacqueline\n",
    "\n",
    "subjects = English,Maths,Kiswahili,GHC,Science\n",
    "\n",
    "Marks =\n",
    "\n",
    "     English : 87, 89, 96, 96, 90, 89, 93, 89, 92, 95\n",
    "\n",
    "     Maths: 89, 90, 86, 96, 94, 85, 93,88, 93, 95\n",
    "\n",
    "     Kiswahili :92, 86, 88, 96, 85, 87, 87, 87, 94, 88\n",
    "\n",
    "     GHC : 89, 88, 89, 90,89, 88, 92, 92, 95, 86\n",
    "\n",
    "     Science :89, 87, 85, 94, 87, 86, 89, 91, 88, 94\n",
    "\n",
    "a. Create a dataframe from the above raw data.\n",
    "\n",
    "b. Display a summary of the basic statistics.\n",
    "c. Create a program which upon entering the registration_number\n",
    "   displays the results for the respective student."
   ]
  },
  {
   "cell_type": "code",
   "execution_count": 194,
   "id": "e3362a5b-5c2f-49c7-96ef-3f225e1f0aa9",
   "metadata": {},
   "outputs": [],
   "source": [
    "#import relevant libraries\n",
    "import pandas as pd\n",
    "import numpy as np\n"
   ]
  },
  {
   "cell_type": "code",
   "execution_count": 68,
   "id": "b25bb4c5-595c-43d1-ba3b-a35560f15ca4",
   "metadata": {},
   "outputs": [
    {
     "data": {
      "text/plain": [
       "array([2171, 5372, 3550, 4670, 6531, 4134, 3865, 6158, 4972, 2136])"
      ]
     },
     "execution_count": 68,
     "metadata": {},
     "output_type": "execute_result"
    }
   ],
   "source": [
    "registration_number = np.random.randint(2100,7200,10)\n",
    "registration_number"
   ]
  },
  {
   "cell_type": "code",
   "execution_count": 195,
   "id": "d06f3df5-58ce-43fd-918f-ca3730cc859d",
   "metadata": {},
   "outputs": [],
   "source": [
    "Results= {'registration_number':[2171, 5372, 3550, 4670, 6531, 4134, 3865, 6158, 4972, 2136],\n",
    "        'students' : ['Ann','Brian','Cate','Denis','Eva','Francis','Gary','Hellen','Ian','Jacqueline'],\n",
    "        'English' : [87, 89, 96, 96, 90, 89, 93, 89, 92, 95],\n",
    "\n",
    "         'Maths': [89, 90, 86, 96, 94, 85, 93,88, 93, 95],\n",
    "\n",
    "         'Kiswahili' :[92, 86, 88, 96, 85, 87, 87, 87, 94, 88],\n",
    "\n",
    "        'GHC' : [89, 88, 89, 90,89, 88, 92, 92, 95, 86],\n",
    "\n",
    "        'Science' :[89, 87, 85, 94, 87, 86, 89, 91, 88, 94]}"
   ]
  },
  {
   "cell_type": "code",
   "execution_count": 196,
   "id": "e87e61ea-5e85-4072-87ac-deb2c6b6d7fc",
   "metadata": {},
   "outputs": [
    {
     "data": {
      "text/plain": [
       "dict"
      ]
     },
     "execution_count": 196,
     "metadata": {},
     "output_type": "execute_result"
    }
   ],
   "source": [
    "type(Results)"
   ]
  },
  {
   "cell_type": "code",
   "execution_count": 2,
   "id": "60c234f1-e505-430a-95f8-3151528a6fd6",
   "metadata": {},
   "outputs": [],
   "source": [
    "# a. Create a dataframe from the above raw data."
   ]
  },
  {
   "cell_type": "code",
   "execution_count": 197,
   "id": "325757d6-900b-4869-bd88-6a4902be5ebd",
   "metadata": {},
   "outputs": [
    {
     "data": {
      "text/html": [
       "<div>\n",
       "<style scoped>\n",
       "    .dataframe tbody tr th:only-of-type {\n",
       "        vertical-align: middle;\n",
       "    }\n",
       "\n",
       "    .dataframe tbody tr th {\n",
       "        vertical-align: top;\n",
       "    }\n",
       "\n",
       "    .dataframe thead th {\n",
       "        text-align: right;\n",
       "    }\n",
       "</style>\n",
       "<table border=\"1\" class=\"dataframe\">\n",
       "  <thead>\n",
       "    <tr style=\"text-align: right;\">\n",
       "      <th></th>\n",
       "      <th>registration_number</th>\n",
       "      <th>students</th>\n",
       "      <th>English</th>\n",
       "      <th>Maths</th>\n",
       "      <th>Kiswahili</th>\n",
       "      <th>GHC</th>\n",
       "      <th>Science</th>\n",
       "    </tr>\n",
       "  </thead>\n",
       "  <tbody>\n",
       "    <tr>\n",
       "      <th>0</th>\n",
       "      <td>2171</td>\n",
       "      <td>Ann</td>\n",
       "      <td>87</td>\n",
       "      <td>89</td>\n",
       "      <td>92</td>\n",
       "      <td>89</td>\n",
       "      <td>89</td>\n",
       "    </tr>\n",
       "    <tr>\n",
       "      <th>1</th>\n",
       "      <td>5372</td>\n",
       "      <td>Brian</td>\n",
       "      <td>89</td>\n",
       "      <td>90</td>\n",
       "      <td>86</td>\n",
       "      <td>88</td>\n",
       "      <td>87</td>\n",
       "    </tr>\n",
       "    <tr>\n",
       "      <th>2</th>\n",
       "      <td>3550</td>\n",
       "      <td>Cate</td>\n",
       "      <td>96</td>\n",
       "      <td>86</td>\n",
       "      <td>88</td>\n",
       "      <td>89</td>\n",
       "      <td>85</td>\n",
       "    </tr>\n",
       "    <tr>\n",
       "      <th>3</th>\n",
       "      <td>4670</td>\n",
       "      <td>Denis</td>\n",
       "      <td>96</td>\n",
       "      <td>96</td>\n",
       "      <td>96</td>\n",
       "      <td>90</td>\n",
       "      <td>94</td>\n",
       "    </tr>\n",
       "    <tr>\n",
       "      <th>4</th>\n",
       "      <td>6531</td>\n",
       "      <td>Eva</td>\n",
       "      <td>90</td>\n",
       "      <td>94</td>\n",
       "      <td>85</td>\n",
       "      <td>89</td>\n",
       "      <td>87</td>\n",
       "    </tr>\n",
       "    <tr>\n",
       "      <th>5</th>\n",
       "      <td>4134</td>\n",
       "      <td>Francis</td>\n",
       "      <td>89</td>\n",
       "      <td>85</td>\n",
       "      <td>87</td>\n",
       "      <td>88</td>\n",
       "      <td>86</td>\n",
       "    </tr>\n",
       "    <tr>\n",
       "      <th>6</th>\n",
       "      <td>3865</td>\n",
       "      <td>Gary</td>\n",
       "      <td>93</td>\n",
       "      <td>93</td>\n",
       "      <td>87</td>\n",
       "      <td>92</td>\n",
       "      <td>89</td>\n",
       "    </tr>\n",
       "    <tr>\n",
       "      <th>7</th>\n",
       "      <td>6158</td>\n",
       "      <td>Hellen</td>\n",
       "      <td>89</td>\n",
       "      <td>88</td>\n",
       "      <td>87</td>\n",
       "      <td>92</td>\n",
       "      <td>91</td>\n",
       "    </tr>\n",
       "    <tr>\n",
       "      <th>8</th>\n",
       "      <td>4972</td>\n",
       "      <td>Ian</td>\n",
       "      <td>92</td>\n",
       "      <td>93</td>\n",
       "      <td>94</td>\n",
       "      <td>95</td>\n",
       "      <td>88</td>\n",
       "    </tr>\n",
       "    <tr>\n",
       "      <th>9</th>\n",
       "      <td>2136</td>\n",
       "      <td>Jacqueline</td>\n",
       "      <td>95</td>\n",
       "      <td>95</td>\n",
       "      <td>88</td>\n",
       "      <td>86</td>\n",
       "      <td>94</td>\n",
       "    </tr>\n",
       "  </tbody>\n",
       "</table>\n",
       "</div>"
      ],
      "text/plain": [
       "   registration_number    students  English  Maths  Kiswahili  GHC  Science\n",
       "0                 2171         Ann       87     89         92   89       89\n",
       "1                 5372       Brian       89     90         86   88       87\n",
       "2                 3550        Cate       96     86         88   89       85\n",
       "3                 4670       Denis       96     96         96   90       94\n",
       "4                 6531         Eva       90     94         85   89       87\n",
       "5                 4134     Francis       89     85         87   88       86\n",
       "6                 3865        Gary       93     93         87   92       89\n",
       "7                 6158      Hellen       89     88         87   92       91\n",
       "8                 4972         Ian       92     93         94   95       88\n",
       "9                 2136  Jacqueline       95     95         88   86       94"
      ]
     },
     "execution_count": 197,
     "metadata": {},
     "output_type": "execute_result"
    }
   ],
   "source": [
    "pd.DataFrame()\n",
    "Results=pd.DataFrame(Results)\n",
    "Results"
   ]
  },
  {
   "cell_type": "code",
   "execution_count": 198,
   "id": "0a9ea439-3015-43e8-9484-57c402a3cc3c",
   "metadata": {},
   "outputs": [
    {
     "data": {
      "text/html": [
       "<div>\n",
       "<style scoped>\n",
       "    .dataframe tbody tr th:only-of-type {\n",
       "        vertical-align: middle;\n",
       "    }\n",
       "\n",
       "    .dataframe tbody tr th {\n",
       "        vertical-align: top;\n",
       "    }\n",
       "\n",
       "    .dataframe thead th {\n",
       "        text-align: right;\n",
       "    }\n",
       "</style>\n",
       "<table border=\"1\" class=\"dataframe\">\n",
       "  <thead>\n",
       "    <tr style=\"text-align: right;\">\n",
       "      <th></th>\n",
       "      <th>registration_number</th>\n",
       "      <th>students</th>\n",
       "      <th>English</th>\n",
       "      <th>Maths</th>\n",
       "      <th>Kiswahili</th>\n",
       "      <th>GHC</th>\n",
       "      <th>Science</th>\n",
       "    </tr>\n",
       "  </thead>\n",
       "  <tbody>\n",
       "    <tr>\n",
       "      <th>0</th>\n",
       "      <td>2171</td>\n",
       "      <td>Ann</td>\n",
       "      <td>87</td>\n",
       "      <td>89</td>\n",
       "      <td>92</td>\n",
       "      <td>89</td>\n",
       "      <td>89</td>\n",
       "    </tr>\n",
       "    <tr>\n",
       "      <th>1</th>\n",
       "      <td>5372</td>\n",
       "      <td>Brian</td>\n",
       "      <td>89</td>\n",
       "      <td>90</td>\n",
       "      <td>86</td>\n",
       "      <td>88</td>\n",
       "      <td>87</td>\n",
       "    </tr>\n",
       "    <tr>\n",
       "      <th>2</th>\n",
       "      <td>3550</td>\n",
       "      <td>Cate</td>\n",
       "      <td>96</td>\n",
       "      <td>86</td>\n",
       "      <td>88</td>\n",
       "      <td>89</td>\n",
       "      <td>85</td>\n",
       "    </tr>\n",
       "    <tr>\n",
       "      <th>3</th>\n",
       "      <td>4670</td>\n",
       "      <td>Denis</td>\n",
       "      <td>96</td>\n",
       "      <td>96</td>\n",
       "      <td>96</td>\n",
       "      <td>90</td>\n",
       "      <td>94</td>\n",
       "    </tr>\n",
       "    <tr>\n",
       "      <th>4</th>\n",
       "      <td>6531</td>\n",
       "      <td>Eva</td>\n",
       "      <td>90</td>\n",
       "      <td>94</td>\n",
       "      <td>85</td>\n",
       "      <td>89</td>\n",
       "      <td>87</td>\n",
       "    </tr>\n",
       "    <tr>\n",
       "      <th>5</th>\n",
       "      <td>4134</td>\n",
       "      <td>Francis</td>\n",
       "      <td>89</td>\n",
       "      <td>85</td>\n",
       "      <td>87</td>\n",
       "      <td>88</td>\n",
       "      <td>86</td>\n",
       "    </tr>\n",
       "    <tr>\n",
       "      <th>6</th>\n",
       "      <td>3865</td>\n",
       "      <td>Gary</td>\n",
       "      <td>93</td>\n",
       "      <td>93</td>\n",
       "      <td>87</td>\n",
       "      <td>92</td>\n",
       "      <td>89</td>\n",
       "    </tr>\n",
       "    <tr>\n",
       "      <th>7</th>\n",
       "      <td>6158</td>\n",
       "      <td>Hellen</td>\n",
       "      <td>89</td>\n",
       "      <td>88</td>\n",
       "      <td>87</td>\n",
       "      <td>92</td>\n",
       "      <td>91</td>\n",
       "    </tr>\n",
       "    <tr>\n",
       "      <th>8</th>\n",
       "      <td>4972</td>\n",
       "      <td>Ian</td>\n",
       "      <td>92</td>\n",
       "      <td>93</td>\n",
       "      <td>94</td>\n",
       "      <td>95</td>\n",
       "      <td>88</td>\n",
       "    </tr>\n",
       "    <tr>\n",
       "      <th>9</th>\n",
       "      <td>2136</td>\n",
       "      <td>Jacqueline</td>\n",
       "      <td>95</td>\n",
       "      <td>95</td>\n",
       "      <td>88</td>\n",
       "      <td>86</td>\n",
       "      <td>94</td>\n",
       "    </tr>\n",
       "  </tbody>\n",
       "</table>\n",
       "</div>"
      ],
      "text/plain": [
       "   registration_number    students  English  Maths  Kiswahili  GHC  Science\n",
       "0                 2171         Ann       87     89         92   89       89\n",
       "1                 5372       Brian       89     90         86   88       87\n",
       "2                 3550        Cate       96     86         88   89       85\n",
       "3                 4670       Denis       96     96         96   90       94\n",
       "4                 6531         Eva       90     94         85   89       87\n",
       "5                 4134     Francis       89     85         87   88       86\n",
       "6                 3865        Gary       93     93         87   92       89\n",
       "7                 6158      Hellen       89     88         87   92       91\n",
       "8                 4972         Ian       92     93         94   95       88\n",
       "9                 2136  Jacqueline       95     95         88   86       94"
      ]
     },
     "execution_count": 198,
     "metadata": {},
     "output_type": "execute_result"
    }
   ],
   "source": [
    "#create a copy\n",
    "df1=Results.copy()\n",
    "df1"
   ]
  },
  {
   "cell_type": "code",
   "execution_count": 3,
   "id": "aa112f6f-8660-4ec2-9b80-010b114403af",
   "metadata": {},
   "outputs": [],
   "source": [
    "# b. Display a summary of the basic statistics."
   ]
  },
  {
   "cell_type": "code",
   "execution_count": 199,
   "id": "de85ae69-6bde-499d-bc16-723adb775566",
   "metadata": {},
   "outputs": [
    {
     "data": {
      "text/html": [
       "<div>\n",
       "<style scoped>\n",
       "    .dataframe tbody tr th:only-of-type {\n",
       "        vertical-align: middle;\n",
       "    }\n",
       "\n",
       "    .dataframe tbody tr th {\n",
       "        vertical-align: top;\n",
       "    }\n",
       "\n",
       "    .dataframe thead th {\n",
       "        text-align: right;\n",
       "    }\n",
       "</style>\n",
       "<table border=\"1\" class=\"dataframe\">\n",
       "  <thead>\n",
       "    <tr style=\"text-align: right;\">\n",
       "      <th></th>\n",
       "      <th>0</th>\n",
       "      <th>1</th>\n",
       "      <th>2</th>\n",
       "      <th>3</th>\n",
       "      <th>4</th>\n",
       "      <th>5</th>\n",
       "      <th>6</th>\n",
       "      <th>7</th>\n",
       "      <th>8</th>\n",
       "      <th>9</th>\n",
       "    </tr>\n",
       "  </thead>\n",
       "  <tbody>\n",
       "    <tr>\n",
       "      <th>registration_number</th>\n",
       "      <td>2171</td>\n",
       "      <td>5372</td>\n",
       "      <td>3550</td>\n",
       "      <td>4670</td>\n",
       "      <td>6531</td>\n",
       "      <td>4134</td>\n",
       "      <td>3865</td>\n",
       "      <td>6158</td>\n",
       "      <td>4972</td>\n",
       "      <td>2136</td>\n",
       "    </tr>\n",
       "    <tr>\n",
       "      <th>students</th>\n",
       "      <td>Ann</td>\n",
       "      <td>Brian</td>\n",
       "      <td>Cate</td>\n",
       "      <td>Denis</td>\n",
       "      <td>Eva</td>\n",
       "      <td>Francis</td>\n",
       "      <td>Gary</td>\n",
       "      <td>Hellen</td>\n",
       "      <td>Ian</td>\n",
       "      <td>Jacqueline</td>\n",
       "    </tr>\n",
       "    <tr>\n",
       "      <th>English</th>\n",
       "      <td>87</td>\n",
       "      <td>89</td>\n",
       "      <td>96</td>\n",
       "      <td>96</td>\n",
       "      <td>90</td>\n",
       "      <td>89</td>\n",
       "      <td>93</td>\n",
       "      <td>89</td>\n",
       "      <td>92</td>\n",
       "      <td>95</td>\n",
       "    </tr>\n",
       "    <tr>\n",
       "      <th>Maths</th>\n",
       "      <td>89</td>\n",
       "      <td>90</td>\n",
       "      <td>86</td>\n",
       "      <td>96</td>\n",
       "      <td>94</td>\n",
       "      <td>85</td>\n",
       "      <td>93</td>\n",
       "      <td>88</td>\n",
       "      <td>93</td>\n",
       "      <td>95</td>\n",
       "    </tr>\n",
       "    <tr>\n",
       "      <th>Kiswahili</th>\n",
       "      <td>92</td>\n",
       "      <td>86</td>\n",
       "      <td>88</td>\n",
       "      <td>96</td>\n",
       "      <td>85</td>\n",
       "      <td>87</td>\n",
       "      <td>87</td>\n",
       "      <td>87</td>\n",
       "      <td>94</td>\n",
       "      <td>88</td>\n",
       "    </tr>\n",
       "    <tr>\n",
       "      <th>GHC</th>\n",
       "      <td>89</td>\n",
       "      <td>88</td>\n",
       "      <td>89</td>\n",
       "      <td>90</td>\n",
       "      <td>89</td>\n",
       "      <td>88</td>\n",
       "      <td>92</td>\n",
       "      <td>92</td>\n",
       "      <td>95</td>\n",
       "      <td>86</td>\n",
       "    </tr>\n",
       "    <tr>\n",
       "      <th>Science</th>\n",
       "      <td>89</td>\n",
       "      <td>87</td>\n",
       "      <td>85</td>\n",
       "      <td>94</td>\n",
       "      <td>87</td>\n",
       "      <td>86</td>\n",
       "      <td>89</td>\n",
       "      <td>91</td>\n",
       "      <td>88</td>\n",
       "      <td>94</td>\n",
       "    </tr>\n",
       "  </tbody>\n",
       "</table>\n",
       "</div>"
      ],
      "text/plain": [
       "                        0      1     2      3     4        5     6       7  \\\n",
       "registration_number  2171   5372  3550   4670  6531     4134  3865    6158   \n",
       "students              Ann  Brian  Cate  Denis   Eva  Francis  Gary  Hellen   \n",
       "English                87     89    96     96    90       89    93      89   \n",
       "Maths                  89     90    86     96    94       85    93      88   \n",
       "Kiswahili              92     86    88     96    85       87    87      87   \n",
       "GHC                    89     88    89     90    89       88    92      92   \n",
       "Science                89     87    85     94    87       86    89      91   \n",
       "\n",
       "                        8           9  \n",
       "registration_number  4972        2136  \n",
       "students              Ian  Jacqueline  \n",
       "English                92          95  \n",
       "Maths                  93          95  \n",
       "Kiswahili              94          88  \n",
       "GHC                    95          86  \n",
       "Science                88          94  "
      ]
     },
     "execution_count": 199,
     "metadata": {},
     "output_type": "execute_result"
    }
   ],
   "source": [
    "df1.T"
   ]
  },
  {
   "cell_type": "code",
   "execution_count": 201,
   "id": "c4581b25-c12e-4a28-b708-78516bd686fc",
   "metadata": {},
   "outputs": [],
   "source": [
    "df1['Total']=df1['English']+df1['Maths']+ df1['Kiswahili']+ df1\t['GHC']+ df1['Science']"
   ]
  },
  {
   "cell_type": "code",
   "execution_count": 222,
   "id": "02c0c15e-68f4-4ef8-8dc2-b4a4a1d6b447",
   "metadata": {
    "scrolled": true
   },
   "outputs": [
    {
     "data": {
      "text/html": [
       "<div>\n",
       "<style scoped>\n",
       "    .dataframe tbody tr th:only-of-type {\n",
       "        vertical-align: middle;\n",
       "    }\n",
       "\n",
       "    .dataframe tbody tr th {\n",
       "        vertical-align: top;\n",
       "    }\n",
       "\n",
       "    .dataframe thead th {\n",
       "        text-align: right;\n",
       "    }\n",
       "</style>\n",
       "<table border=\"1\" class=\"dataframe\">\n",
       "  <thead>\n",
       "    <tr style=\"text-align: right;\">\n",
       "      <th></th>\n",
       "      <th>students</th>\n",
       "      <th>English</th>\n",
       "      <th>Maths</th>\n",
       "      <th>Kiswahili</th>\n",
       "      <th>GHC</th>\n",
       "      <th>Science</th>\n",
       "      <th>Total</th>\n",
       "    </tr>\n",
       "    <tr>\n",
       "      <th>registration_number</th>\n",
       "      <th></th>\n",
       "      <th></th>\n",
       "      <th></th>\n",
       "      <th></th>\n",
       "      <th></th>\n",
       "      <th></th>\n",
       "      <th></th>\n",
       "    </tr>\n",
       "  </thead>\n",
       "  <tbody>\n",
       "    <tr>\n",
       "      <th>2171</th>\n",
       "      <td>Ann</td>\n",
       "      <td>87</td>\n",
       "      <td>89</td>\n",
       "      <td>92</td>\n",
       "      <td>89</td>\n",
       "      <td>89</td>\n",
       "      <td>446</td>\n",
       "    </tr>\n",
       "    <tr>\n",
       "      <th>5372</th>\n",
       "      <td>Brian</td>\n",
       "      <td>89</td>\n",
       "      <td>90</td>\n",
       "      <td>86</td>\n",
       "      <td>88</td>\n",
       "      <td>87</td>\n",
       "      <td>440</td>\n",
       "    </tr>\n",
       "    <tr>\n",
       "      <th>3550</th>\n",
       "      <td>Cate</td>\n",
       "      <td>96</td>\n",
       "      <td>86</td>\n",
       "      <td>88</td>\n",
       "      <td>89</td>\n",
       "      <td>85</td>\n",
       "      <td>444</td>\n",
       "    </tr>\n",
       "    <tr>\n",
       "      <th>4670</th>\n",
       "      <td>Denis</td>\n",
       "      <td>96</td>\n",
       "      <td>96</td>\n",
       "      <td>96</td>\n",
       "      <td>90</td>\n",
       "      <td>94</td>\n",
       "      <td>472</td>\n",
       "    </tr>\n",
       "    <tr>\n",
       "      <th>6531</th>\n",
       "      <td>Eva</td>\n",
       "      <td>90</td>\n",
       "      <td>94</td>\n",
       "      <td>85</td>\n",
       "      <td>89</td>\n",
       "      <td>87</td>\n",
       "      <td>445</td>\n",
       "    </tr>\n",
       "    <tr>\n",
       "      <th>4134</th>\n",
       "      <td>Francis</td>\n",
       "      <td>89</td>\n",
       "      <td>85</td>\n",
       "      <td>87</td>\n",
       "      <td>88</td>\n",
       "      <td>86</td>\n",
       "      <td>435</td>\n",
       "    </tr>\n",
       "    <tr>\n",
       "      <th>3865</th>\n",
       "      <td>Gary</td>\n",
       "      <td>93</td>\n",
       "      <td>93</td>\n",
       "      <td>87</td>\n",
       "      <td>92</td>\n",
       "      <td>89</td>\n",
       "      <td>454</td>\n",
       "    </tr>\n",
       "    <tr>\n",
       "      <th>6158</th>\n",
       "      <td>Hellen</td>\n",
       "      <td>89</td>\n",
       "      <td>88</td>\n",
       "      <td>87</td>\n",
       "      <td>92</td>\n",
       "      <td>91</td>\n",
       "      <td>447</td>\n",
       "    </tr>\n",
       "    <tr>\n",
       "      <th>4972</th>\n",
       "      <td>Ian</td>\n",
       "      <td>92</td>\n",
       "      <td>93</td>\n",
       "      <td>94</td>\n",
       "      <td>95</td>\n",
       "      <td>88</td>\n",
       "      <td>462</td>\n",
       "    </tr>\n",
       "    <tr>\n",
       "      <th>2136</th>\n",
       "      <td>Jacqueline</td>\n",
       "      <td>95</td>\n",
       "      <td>95</td>\n",
       "      <td>88</td>\n",
       "      <td>86</td>\n",
       "      <td>94</td>\n",
       "      <td>458</td>\n",
       "    </tr>\n",
       "  </tbody>\n",
       "</table>\n",
       "</div>"
      ],
      "text/plain": [
       "                       students  English  Maths  Kiswahili  GHC  Science  \\\n",
       "registration_number                                                        \n",
       "2171                        Ann       87     89         92   89       89   \n",
       "5372                      Brian       89     90         86   88       87   \n",
       "3550                       Cate       96     86         88   89       85   \n",
       "4670                      Denis       96     96         96   90       94   \n",
       "6531                        Eva       90     94         85   89       87   \n",
       "4134                    Francis       89     85         87   88       86   \n",
       "3865                       Gary       93     93         87   92       89   \n",
       "6158                     Hellen       89     88         87   92       91   \n",
       "4972                        Ian       92     93         94   95       88   \n",
       "2136                 Jacqueline       95     95         88   86       94   \n",
       "\n",
       "                     Total  \n",
       "registration_number         \n",
       "2171                   446  \n",
       "5372                   440  \n",
       "3550                   444  \n",
       "4670                   472  \n",
       "6531                   445  \n",
       "4134                   435  \n",
       "3865                   454  \n",
       "6158                   447  \n",
       "4972                   462  \n",
       "2136                   458  "
      ]
     },
     "execution_count": 222,
     "metadata": {},
     "output_type": "execute_result"
    }
   ],
   "source": [
    "df1"
   ]
  },
  {
   "cell_type": "code",
   "execution_count": null,
   "id": "1d18a297-42e2-407b-8b34-9afbbc230050",
   "metadata": {},
   "outputs": [],
   "source": []
  },
  {
   "cell_type": "code",
   "execution_count": null,
   "id": "c6a905b0-3954-4b73-8b20-47afe3496279",
   "metadata": {},
   "outputs": [],
   "source": []
  },
  {
   "cell_type": "code",
   "execution_count": 178,
   "id": "a09a7c13-4ede-447a-a3fc-859fdad92db1",
   "metadata": {},
   "outputs": [
    {
     "data": {
      "text/plain": [
       "'Ann'"
      ]
     },
     "execution_count": 178,
     "metadata": {},
     "output_type": "execute_result"
    }
   ],
   "source": [
    "df1.iloc[0,1]"
   ]
  },
  {
   "cell_type": "code",
   "execution_count": 179,
   "id": "24008aae-01e9-4a47-970b-95d62e2dcdf6",
   "metadata": {},
   "outputs": [
    {
     "data": {
      "text/plain": [
       "94"
      ]
     },
     "execution_count": 179,
     "metadata": {},
     "output_type": "execute_result"
    }
   ],
   "source": [
    "df1.iloc[9,6]"
   ]
  },
  {
   "cell_type": "code",
   "execution_count": 180,
   "id": "b48ce1ad-f761-426c-a6c0-e116d5139462",
   "metadata": {},
   "outputs": [
    {
     "name": "stdout",
     "output_type": "stream",
     "text": [
      "94\n"
     ]
    }
   ],
   "source": [
    "print(df1.iloc[9,6])"
   ]
  },
  {
   "cell_type": "code",
   "execution_count": 181,
   "id": "afbf1a61-311d-410f-a79d-219d51f95c61",
   "metadata": {},
   "outputs": [
    {
     "data": {
      "text/plain": [
       "9    86\n",
       "Name: GHC, dtype: int64"
      ]
     },
     "execution_count": 181,
     "metadata": {},
     "output_type": "execute_result"
    }
   ],
   "source": [
    "df1.iloc[9:,5]"
   ]
  },
  {
   "cell_type": "code",
   "execution_count": 203,
   "id": "9aa66ca7-6cfb-4e77-afc2-134fde8c3207",
   "metadata": {},
   "outputs": [],
   "source": [
    "df1.columns= df1.columns.str.strip()"
   ]
  },
  {
   "cell_type": "code",
   "execution_count": 204,
   "id": "c0127712-e9e3-4dac-848e-59e372766afe",
   "metadata": {},
   "outputs": [
    {
     "data": {
      "text/html": [
       "<div>\n",
       "<style scoped>\n",
       "    .dataframe tbody tr th:only-of-type {\n",
       "        vertical-align: middle;\n",
       "    }\n",
       "\n",
       "    .dataframe tbody tr th {\n",
       "        vertical-align: top;\n",
       "    }\n",
       "\n",
       "    .dataframe thead th {\n",
       "        text-align: right;\n",
       "    }\n",
       "</style>\n",
       "<table border=\"1\" class=\"dataframe\">\n",
       "  <thead>\n",
       "    <tr style=\"text-align: right;\">\n",
       "      <th></th>\n",
       "      <th>students</th>\n",
       "      <th>English</th>\n",
       "      <th>Maths</th>\n",
       "      <th>Kiswahili</th>\n",
       "      <th>GHC</th>\n",
       "      <th>Science</th>\n",
       "      <th>Total</th>\n",
       "    </tr>\n",
       "    <tr>\n",
       "      <th>registration_number</th>\n",
       "      <th></th>\n",
       "      <th></th>\n",
       "      <th></th>\n",
       "      <th></th>\n",
       "      <th></th>\n",
       "      <th></th>\n",
       "      <th></th>\n",
       "    </tr>\n",
       "  </thead>\n",
       "  <tbody>\n",
       "    <tr>\n",
       "      <th>2171</th>\n",
       "      <td>Ann</td>\n",
       "      <td>87</td>\n",
       "      <td>89</td>\n",
       "      <td>92</td>\n",
       "      <td>89</td>\n",
       "      <td>89</td>\n",
       "      <td>446</td>\n",
       "    </tr>\n",
       "    <tr>\n",
       "      <th>5372</th>\n",
       "      <td>Brian</td>\n",
       "      <td>89</td>\n",
       "      <td>90</td>\n",
       "      <td>86</td>\n",
       "      <td>88</td>\n",
       "      <td>87</td>\n",
       "      <td>440</td>\n",
       "    </tr>\n",
       "    <tr>\n",
       "      <th>3550</th>\n",
       "      <td>Cate</td>\n",
       "      <td>96</td>\n",
       "      <td>86</td>\n",
       "      <td>88</td>\n",
       "      <td>89</td>\n",
       "      <td>85</td>\n",
       "      <td>444</td>\n",
       "    </tr>\n",
       "    <tr>\n",
       "      <th>4670</th>\n",
       "      <td>Denis</td>\n",
       "      <td>96</td>\n",
       "      <td>96</td>\n",
       "      <td>96</td>\n",
       "      <td>90</td>\n",
       "      <td>94</td>\n",
       "      <td>472</td>\n",
       "    </tr>\n",
       "    <tr>\n",
       "      <th>6531</th>\n",
       "      <td>Eva</td>\n",
       "      <td>90</td>\n",
       "      <td>94</td>\n",
       "      <td>85</td>\n",
       "      <td>89</td>\n",
       "      <td>87</td>\n",
       "      <td>445</td>\n",
       "    </tr>\n",
       "    <tr>\n",
       "      <th>4134</th>\n",
       "      <td>Francis</td>\n",
       "      <td>89</td>\n",
       "      <td>85</td>\n",
       "      <td>87</td>\n",
       "      <td>88</td>\n",
       "      <td>86</td>\n",
       "      <td>435</td>\n",
       "    </tr>\n",
       "    <tr>\n",
       "      <th>3865</th>\n",
       "      <td>Gary</td>\n",
       "      <td>93</td>\n",
       "      <td>93</td>\n",
       "      <td>87</td>\n",
       "      <td>92</td>\n",
       "      <td>89</td>\n",
       "      <td>454</td>\n",
       "    </tr>\n",
       "    <tr>\n",
       "      <th>6158</th>\n",
       "      <td>Hellen</td>\n",
       "      <td>89</td>\n",
       "      <td>88</td>\n",
       "      <td>87</td>\n",
       "      <td>92</td>\n",
       "      <td>91</td>\n",
       "      <td>447</td>\n",
       "    </tr>\n",
       "    <tr>\n",
       "      <th>4972</th>\n",
       "      <td>Ian</td>\n",
       "      <td>92</td>\n",
       "      <td>93</td>\n",
       "      <td>94</td>\n",
       "      <td>95</td>\n",
       "      <td>88</td>\n",
       "      <td>462</td>\n",
       "    </tr>\n",
       "    <tr>\n",
       "      <th>2136</th>\n",
       "      <td>Jacqueline</td>\n",
       "      <td>95</td>\n",
       "      <td>95</td>\n",
       "      <td>88</td>\n",
       "      <td>86</td>\n",
       "      <td>94</td>\n",
       "      <td>458</td>\n",
       "    </tr>\n",
       "  </tbody>\n",
       "</table>\n",
       "</div>"
      ],
      "text/plain": [
       "                       students  English  Maths  Kiswahili  GHC  Science  \\\n",
       "registration_number                                                        \n",
       "2171                        Ann       87     89         92   89       89   \n",
       "5372                      Brian       89     90         86   88       87   \n",
       "3550                       Cate       96     86         88   89       85   \n",
       "4670                      Denis       96     96         96   90       94   \n",
       "6531                        Eva       90     94         85   89       87   \n",
       "4134                    Francis       89     85         87   88       86   \n",
       "3865                       Gary       93     93         87   92       89   \n",
       "6158                     Hellen       89     88         87   92       91   \n",
       "4972                        Ian       92     93         94   95       88   \n",
       "2136                 Jacqueline       95     95         88   86       94   \n",
       "\n",
       "                     Total  \n",
       "registration_number         \n",
       "2171                   446  \n",
       "5372                   440  \n",
       "3550                   444  \n",
       "4670                   472  \n",
       "6531                   445  \n",
       "4134                   435  \n",
       "3865                   454  \n",
       "6158                   447  \n",
       "4972                   462  \n",
       "2136                   458  "
      ]
     },
     "execution_count": 204,
     "metadata": {},
     "output_type": "execute_result"
    }
   ],
   "source": [
    "df1=df1.set_index('registration_number')\n",
    "df1"
   ]
  },
  {
   "cell_type": "code",
   "execution_count": 4,
   "id": "aa3316cd-c02a-4c22-98d4-9e5853bc3c6c",
   "metadata": {},
   "outputs": [],
   "source": [
    "# c. Create a program which upon entering the registration_number displays the results for the respective student."
   ]
  },
  {
   "cell_type": "code",
   "execution_count": 205,
   "id": "3daa8a68-550d-4a9d-9559-1134c0207719",
   "metadata": {},
   "outputs": [],
   "source": [
    "def Results():\n",
    "    x = int(input(\"Enter Student's registration number : \"))\n",
    "    print(df1.loc[x])"
   ]
  },
  {
   "cell_type": "code",
   "execution_count": 163,
   "id": "4c59ec2c-72a4-4673-852b-378a5f905521",
   "metadata": {},
   "outputs": [
    {
     "name": "stdin",
     "output_type": "stream",
     "text": [
      "Enter Student's registration number :  2171\n"
     ]
    },
    {
     "name": "stdout",
     "output_type": "stream",
     "text": [
      "students      Ann\n",
      "English        87\n",
      "Maths          89\n",
      "Kiswahili      92\n",
      "GHC            89\n",
      "Science        89\n",
      "Total         446\n",
      "cumulative    446\n",
      "Name: 2171, dtype: object\n"
     ]
    }
   ],
   "source": [
    "Results()"
   ]
  },
  {
   "cell_type": "code",
   "execution_count": 206,
   "id": "44b57bdf-c036-4eab-bd99-c3706cead42d",
   "metadata": {},
   "outputs": [
    {
     "name": "stdin",
     "output_type": "stream",
     "text": [
      "Enter Student's registration number :  5372\n"
     ]
    },
    {
     "name": "stdout",
     "output_type": "stream",
     "text": [
      "students     Brian\n",
      "English         89\n",
      "Maths           90\n",
      "Kiswahili       86\n",
      "GHC             88\n",
      "Science         87\n",
      "Total          440\n",
      "Name: 5372, dtype: object\n"
     ]
    }
   ],
   "source": [
    "Results()"
   ]
  },
  {
   "cell_type": "code",
   "execution_count": 207,
   "id": "9fc129a0-dfa4-4c96-9581-272ff91fc847",
   "metadata": {},
   "outputs": [
    {
     "name": "stdin",
     "output_type": "stream",
     "text": [
      "Enter Student's registration number :  3550\n"
     ]
    },
    {
     "name": "stdout",
     "output_type": "stream",
     "text": [
      "students     Cate\n",
      "English        96\n",
      "Maths          86\n",
      "Kiswahili      88\n",
      "GHC            89\n",
      "Science        85\n",
      "Total         444\n",
      "Name: 3550, dtype: object\n"
     ]
    }
   ],
   "source": [
    "Results()"
   ]
  },
  {
   "cell_type": "code",
   "execution_count": 208,
   "id": "8d0b8f6f-54bd-412d-923b-257f7f18e832",
   "metadata": {},
   "outputs": [
    {
     "name": "stdin",
     "output_type": "stream",
     "text": [
      "Enter Student's registration number :  4670\n"
     ]
    },
    {
     "name": "stdout",
     "output_type": "stream",
     "text": [
      "students     Denis\n",
      "English         96\n",
      "Maths           96\n",
      "Kiswahili       96\n",
      "GHC             90\n",
      "Science         94\n",
      "Total          472\n",
      "Name: 4670, dtype: object\n"
     ]
    }
   ],
   "source": [
    "Results()"
   ]
  },
  {
   "cell_type": "code",
   "execution_count": 209,
   "id": "106b54f7-0948-47d5-ac75-92155dd42358",
   "metadata": {},
   "outputs": [
    {
     "name": "stdin",
     "output_type": "stream",
     "text": [
      "Enter Student's registration number :  6531\n"
     ]
    },
    {
     "name": "stdout",
     "output_type": "stream",
     "text": [
      "students     Eva\n",
      "English       90\n",
      "Maths         94\n",
      "Kiswahili     85\n",
      "GHC           89\n",
      "Science       87\n",
      "Total        445\n",
      "Name: 6531, dtype: object\n"
     ]
    }
   ],
   "source": [
    "Results()"
   ]
  },
  {
   "cell_type": "code",
   "execution_count": 210,
   "id": "2e6159f1-fa11-4783-b0e9-812e78cabfac",
   "metadata": {},
   "outputs": [
    {
     "name": "stdin",
     "output_type": "stream",
     "text": [
      "Enter Student's registration number :  4134\n"
     ]
    },
    {
     "name": "stdout",
     "output_type": "stream",
     "text": [
      "students     Francis\n",
      "English           89\n",
      "Maths             85\n",
      "Kiswahili         87\n",
      "GHC               88\n",
      "Science           86\n",
      "Total            435\n",
      "Name: 4134, dtype: object\n"
     ]
    }
   ],
   "source": [
    "Results()"
   ]
  },
  {
   "cell_type": "code",
   "execution_count": 211,
   "id": "8010171b-8ee6-4077-b3e8-48b384b37ff9",
   "metadata": {},
   "outputs": [
    {
     "name": "stdin",
     "output_type": "stream",
     "text": [
      "Enter Student's registration number :  3865\n"
     ]
    },
    {
     "name": "stdout",
     "output_type": "stream",
     "text": [
      "students     Gary\n",
      "English        93\n",
      "Maths          93\n",
      "Kiswahili      87\n",
      "GHC            92\n",
      "Science        89\n",
      "Total         454\n",
      "Name: 3865, dtype: object\n"
     ]
    }
   ],
   "source": [
    "Results()"
   ]
  },
  {
   "cell_type": "code",
   "execution_count": 212,
   "id": "349f8e6a-e9d2-42aa-beae-b87c56546cbe",
   "metadata": {},
   "outputs": [
    {
     "name": "stdin",
     "output_type": "stream",
     "text": [
      "Enter Student's registration number :  6158\n"
     ]
    },
    {
     "name": "stdout",
     "output_type": "stream",
     "text": [
      "students     Hellen\n",
      "English          89\n",
      "Maths            88\n",
      "Kiswahili        87\n",
      "GHC              92\n",
      "Science          91\n",
      "Total           447\n",
      "Name: 6158, dtype: object\n"
     ]
    }
   ],
   "source": [
    "Results()"
   ]
  },
  {
   "cell_type": "code",
   "execution_count": 213,
   "id": "f3b16564-0c66-422a-b291-0d33986867a7",
   "metadata": {},
   "outputs": [
    {
     "name": "stdin",
     "output_type": "stream",
     "text": [
      "Enter Student's registration number :  4972\n"
     ]
    },
    {
     "name": "stdout",
     "output_type": "stream",
     "text": [
      "students     Ian\n",
      "English       92\n",
      "Maths         93\n",
      "Kiswahili     94\n",
      "GHC           95\n",
      "Science       88\n",
      "Total        462\n",
      "Name: 4972, dtype: object\n"
     ]
    }
   ],
   "source": [
    "Results()"
   ]
  },
  {
   "cell_type": "code",
   "execution_count": 214,
   "id": "19c61036-3b84-4705-8c79-48b949ae1a78",
   "metadata": {},
   "outputs": [
    {
     "name": "stdin",
     "output_type": "stream",
     "text": [
      "Enter Student's registration number :  2136\n"
     ]
    },
    {
     "name": "stdout",
     "output_type": "stream",
     "text": [
      "students     Jacqueline\n",
      "English              95\n",
      "Maths                95\n",
      "Kiswahili            88\n",
      "GHC                  86\n",
      "Science              94\n",
      "Total               458\n",
      "Name: 2136, dtype: object\n"
     ]
    }
   ],
   "source": [
    "Results()"
   ]
  },
  {
   "cell_type": "markdown",
   "id": "2c2d6919-0d7f-45e1-9c6c-7bfec4253c3e",
   "metadata": {},
   "source": [
    "Q 3.a. Create a program 'SIM Services' with the following options :\n",
    "\n",
    "studtel services\n",
    "\n",
    "studtel money\n",
    "\n",
    "language"
   ]
  },
  {
   "cell_type": "code",
   "execution_count": 1,
   "id": "3a984618-5405-4150-b269-a78236de5653",
   "metadata": {},
   "outputs": [],
   "source": [
    "SIM_Services= {\n",
    "\n",
    "        'studtel_services':['telcom','airtel','safcom'],\n",
    "        'pin':[7777],\n",
    "        'balance':[5000],\n",
    "        'studtel_money': ['buy airtime','send money','make payments','withdraw money','bank','my account'],\n",
    "        'language':['english''kiswahili']}\n"
   ]
  },
  {
   "cell_type": "code",
   "execution_count": 2,
   "id": "f4186cb2-dd9d-408a-8845-54f89c77b079",
   "metadata": {},
   "outputs": [
    {
     "name": "stdout",
     "output_type": "stream",
     "text": [
      "welcome to studtel_services\n"
     ]
    },
    {
     "name": "stdin",
     "output_type": "stream",
     "text": [
      "select language 1\n"
     ]
    },
    {
     "name": "stdout",
     "output_type": "stream",
     "text": [
      "Enter 1:English\n",
      " Enter 2: Kiswahili\n"
     ]
    },
    {
     "name": "stdin",
     "output_type": "stream",
     "text": [
      "Enter pin 7777\n"
     ]
    },
    {
     "name": "stdout",
     "output_type": "stream",
     "text": [
      "select studtel_money\n",
      "Enter 1:buy airtime\n",
      " Enter 2: send money\n",
      " Enter 3: make payments\n",
      " Enter 4: withdraw money\n",
      " Enter 5:bank\n",
      " Enter 6: my account\n"
     ]
    },
    {
     "name": "stdin",
     "output_type": "stream",
     "text": [
      "Enter your selection 1\n"
     ]
    },
    {
     "name": "stdout",
     "output_type": "stream",
     "text": [
      "Enter amount to buy\n"
     ]
    },
    {
     "name": "stdin",
     "output_type": "stream",
     "text": [
      "enter amount 500\n"
     ]
    },
    {
     "name": "stdout",
     "output_type": "stream",
     "text": [
      "enter 3 to quit\n"
     ]
    }
   ],
   "source": [
    "print('welcome to studtel_services')\n",
    "languge=int(input('select language'))\n",
    "print('Enter 1:English\\n Enter 2: Kiswahili')\n",
    "service=int(input('Enter pin'))\n",
    "print('select studtel_money')\n",
    "print('Enter 1:buy airtime\\n Enter 2: send money\\n Enter 3: make payments\\n Enter 4: withdraw money\\n Enter 5:bank\\n Enter 6: my account')\n",
    "query=int(input('Enter your selection'))\n",
    "print('Enter amount to buy')\n",
    "amount=int(input('enter amount'))\n",
    "print('enter 3 to quit')"
   ]
  },
  {
   "cell_type": "code",
   "execution_count": null,
   "id": "6c1f1beb-7cd0-4e27-b51a-814694ae7472",
   "metadata": {},
   "outputs": [],
   "source": []
  },
  {
   "cell_type": "markdown",
   "id": "0610c628-aacc-4be3-8f7d-eb932d766fe5",
   "metadata": {},
   "source": [
    "    Q4"
   ]
  },
  {
   "cell_type": "code",
   "execution_count": 2,
   "id": "4cd26a2c-36b1-4dcc-a579-25d7730e85f9",
   "metadata": {},
   "outputs": [
    {
     "name": "stderr",
     "output_type": "stream",
     "text": [
      "<>:2: SyntaxWarning: invalid escape sequence '\\S'\n",
      "<>:2: SyntaxWarning: invalid escape sequence '\\S'\n",
      "C:\\Users\\pc\\AppData\\Local\\Temp\\ipykernel_8360\\2833456858.py:2: SyntaxWarning: invalid escape sequence '\\S'\n",
      "  'Sim_Service':['My_Number','My_Account' 'Report_Fraud','Block_SIM\\Swap','Get_Postpaid','Mifi','Router','Get_PUK'],\n"
     ]
    }
   ],
   "source": [
    "Students_Services= {\n",
    " 'Sim_Service':['My_Number','My_Account' 'Report_Fraud','Block_SIM\\Swap','Get_Postpaid','Mifi','Router','Get_PUK'],\n",
    "\n",
    "'Studtel_Shop':['Nairobi','Central','Eastern','Western','Nyanza','Rift_Valley','Coast','North_Eastern','Main Menu'],\n",
    "'Nairobi/Kiambu': ['Mombasa Rd/Uhuru Highway','CBD','Westlands','Karen/Rongai','Thika Road']}"
   ]
  },
  {
   "cell_type": "code",
   "execution_count": 3,
   "id": "3c6f6478-9e3d-4d10-b88e-8797977db895",
   "metadata": {},
   "outputs": [
    {
     "name": "stdout",
     "output_type": "stream",
     "text": [
      "Welcome to Student_Services\n"
     ]
    },
    {
     "name": "stdin",
     "output_type": "stream",
     "text": [
      "find Studtel_Shop 5\n"
     ]
    },
    {
     "name": "stdout",
     "output_type": "stream",
     "text": [
      "Enter 1:Nairobi\n",
      " Enter 2: Central\n",
      " Enter 3: Eastern\n",
      " Enter 4: Western\n",
      " Enter 5: Nyanza\n",
      " Enter 6: Rift_Valley\n",
      " Enter 7: Coast\n",
      " Enter 8: North_Eastern\n",
      " Enter 0: Main menu\n"
     ]
    },
    {
     "name": "stdin",
     "output_type": "stream",
     "text": [
      "Choose a shop within NAIROBI,KIAMBU 1\n"
     ]
    },
    {
     "name": "stdout",
     "output_type": "stream",
     "text": [
      "Enter 1:Mombasa Rd/Uhuru Highway\n",
      " Enter 2: CBD\n",
      " Enter 3: Westlands\n",
      " Enter 4: Karen/Rongai\n",
      " Enter 5: Thika Road\n",
      " Enter 00: exit\n"
     ]
    },
    {
     "name": "stdin",
     "output_type": "stream",
     "text": [
      "choose a shop in CBD 2\n"
     ]
    },
    {
     "name": "stdout",
     "output_type": "stream",
     "text": [
      "You will get an sms with the list of shops in CBD\n"
     ]
    }
   ],
   "source": [
    "print('Welcome to Student_Services')\n",
    "Student_Services=int(input('find Studtel_Shop'))\n",
    "print('Enter 1:Nairobi\\n Enter 2: Central\\n Enter 3: Eastern\\n Enter 4: Western\\n Enter 5: Nyanza\\n Enter 6: Rift_Valley\\n Enter 7: Coast\\n Enter 8: North_Eastern\\n Enter 0: Main menu')\n",
    "Shop=int(input('Choose a shop within NAIROBI,KIAMBU'))\n",
    "print('Enter 1:Mombasa Rd/Uhuru Highway\\n Enter 2: CBD\\n Enter 3: Westlands\\n Enter 4: Karen/Rongai\\n Enter 5: Thika Road\\n Enter 00: exit')\n",
    "CBD=int(input('choose a shop in CBD'))\n",
    "print('You will get an sms with the list of shops in CBD')\n"
   ]
  },
  {
   "cell_type": "code",
   "execution_count": null,
   "id": "736374e4-406c-4bc3-940a-2867d7dc47db",
   "metadata": {},
   "outputs": [],
   "source": []
  },
  {
   "cell_type": "code",
   "execution_count": null,
   "id": "9f446977-71e9-405c-ba30-bc672405699d",
   "metadata": {},
   "outputs": [],
   "source": []
  }
 ],
 "metadata": {
  "kernelspec": {
   "display_name": "Python [conda env:base] *",
   "language": "python",
   "name": "conda-base-py"
  },
  "language_info": {
   "codemirror_mode": {
    "name": "ipython",
    "version": 3
   },
   "file_extension": ".py",
   "mimetype": "text/x-python",
   "name": "python",
   "nbconvert_exporter": "python",
   "pygments_lexer": "ipython3",
   "version": "3.12.7"
  }
 },
 "nbformat": 4,
 "nbformat_minor": 5
}
